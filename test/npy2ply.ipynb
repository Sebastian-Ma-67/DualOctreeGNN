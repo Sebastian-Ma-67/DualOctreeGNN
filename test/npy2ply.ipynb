{
 "cells": [
  {
   "cell_type": "code",
   "execution_count": 1,
   "metadata": {},
   "outputs": [],
   "source": [
    "import open3d as o3d\n",
    "import numpy as np"
   ]
  },
  {
   "cell_type": "code",
   "execution_count": 2,
   "metadata": {},
   "outputs": [
    {
     "data": {
      "text/plain": [
       "True"
      ]
     },
     "execution_count": 2,
     "metadata": {},
     "output_type": "execute_result"
    }
   ],
   "source": [
    "pcd_np = np.load(\"../data/gibson_tiny/Coffeen/scene.npy\")\n",
    "pcd_od3 = o3d.geometry.PointCloud()\n",
    "pcd_od3.points = o3d.utility.Vector3dVector(pcd_np[:, 0:3])\n",
    "pcd_od3.normals = o3d.utility.Vector3dVector(pcd_np[:, 3:6])\n",
    "o3d.io.write_point_cloud(\"../data/gibson_tiny/Coffeen/scene.ply\", pcd_od3)"
   ]
  },
  {
   "cell_type": "code",
   "execution_count": null,
   "metadata": {},
   "outputs": [],
   "source": []
  }
 ],
 "metadata": {
  "kernelspec": {
   "display_name": "Python 3.7.13 ('dualocnn')",
   "language": "python",
   "name": "python3"
  },
  "language_info": {
   "codemirror_mode": {
    "name": "ipython",
    "version": 3
   },
   "file_extension": ".py",
   "mimetype": "text/x-python",
   "name": "python",
   "nbconvert_exporter": "python",
   "pygments_lexer": "ipython3",
   "version": "3.7.13"
  },
  "orig_nbformat": 4,
  "vscode": {
   "interpreter": {
    "hash": "34958d27ec10b3896f0b6dd0f11579f020d5fcfeaf20fae017b93b519ffed7a5"
   }
  }
 },
 "nbformat": 4,
 "nbformat_minor": 2
}
